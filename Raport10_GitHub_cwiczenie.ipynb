{
  "nbformat": 4,
  "nbformat_minor": 0,
  "metadata": {
    "colab": {
      "provenance": [],
      "authorship_tag": "ABX9TyMFoR/g9niPbCu3PQBaftIm",
      "include_colab_link": true
    },
    "kernelspec": {
      "name": "python3",
      "display_name": "Python 3"
    },
    "language_info": {
      "name": "python"
    }
  },
  "cells": [
    {
      "cell_type": "markdown",
      "metadata": {
        "id": "view-in-github",
        "colab_type": "text"
      },
      "source": [
        "<a href=\"https://colab.research.google.com/github/Jakub-Kolodziejski/Raport10/blob/main/Raport10_GitHub_cwiczenie.ipynb\" target=\"_parent\"><img src=\"https://colab.research.google.com/assets/colab-badge.svg\" alt=\"Open In Colab\"/></a>"
      ]
    },
    {
      "cell_type": "markdown",
      "source": [
        "# Raport 8"
      ],
      "metadata": {
        "id": "inu3kxCKGlqf"
      }
    },
    {
      "cell_type": "code",
      "source": [
        "!wget https://raw.githubusercontent.com/Jakub-Kolodziejski/Raport10/refs/heads/main/googleplaystore.csv -O google_wget.csv\n",
        "!wget https://raw.githubusercontent.com/Jakub-Kolodziejski/Raport10/refs/heads/main/AppleStore.csv -O apple_wget.csv"
      ],
      "metadata": {
        "colab": {
          "base_uri": "https://localhost:8080/"
        },
        "id": "csue2dPmGrh8",
        "outputId": "b49b97b2-2ea1-4414-a0eb-056772d75bfe"
      },
      "execution_count": null,
      "outputs": [
        {
          "output_type": "stream",
          "name": "stdout",
          "text": [
            "--2025-05-13 11:41:13--  https://raw.githubusercontent.com/Jakub-Kolodziejski/Raport10/refs/heads/main/googleplaystore.csv\n",
            "Resolving raw.githubusercontent.com (raw.githubusercontent.com)... 185.199.109.133, 185.199.108.133, 185.199.110.133, ...\n",
            "Connecting to raw.githubusercontent.com (raw.githubusercontent.com)|185.199.109.133|:443... connected.\n",
            "HTTP request sent, awaiting response... 200 OK\n",
            "Length: 1349314 (1.3M) [text/plain]\n",
            "Saving to: ‘google_wget.csv’\n",
            "\n",
            "google_wget.csv     100%[===================>]   1.29M  4.64MB/s    in 0.3s    \n",
            "\n",
            "2025-05-13 11:41:13 (4.64 MB/s) - ‘google_wget.csv’ saved [1349314/1349314]\n",
            "\n",
            "--2025-05-13 11:41:13--  https://dq-content.s3.amazonaws.com/350/AppleStore.csv\n",
            "Resolving dq-content.s3.amazonaws.com (dq-content.s3.amazonaws.com)... 54.231.229.161, 3.5.17.43, 3.5.25.174, ...\n",
            "Connecting to dq-content.s3.amazonaws.com (dq-content.s3.amazonaws.com)|54.231.229.161|:443... connected.\n",
            "HTTP request sent, awaiting response... 200 OK\n",
            "Length: 725761 (709K) [text/csv]\n",
            "Saving to: ‘apple_wget.csv’\n",
            "\n",
            "apple_wget.csv      100%[===================>] 708.75K   783KB/s    in 0.9s    \n",
            "\n",
            "2025-05-13 11:41:15 (783 KB/s) - ‘apple_wget.csv’ saved [725761/725761]\n",
            "\n"
          ]
        }
      ]
    },
    {
      "cell_type": "code",
      "source": [
        "from csv import reader\n",
        "\n",
        "def wczytaj(file):\n",
        "\n",
        "    with open(file) as f:\n",
        "        return list(reader(f))\n",
        "\n",
        "def usun(data):\n",
        "\n",
        "    del data[10473]\n",
        "    return data\n",
        "\n",
        "def duplikaty(data):\n",
        "\n",
        "    reviews_max = {}\n",
        "    for app in data[1:]:\n",
        "        name = app[0]\n",
        "        n_reviews = float(app[3])\n",
        "        if name in reviews_max:\n",
        "            if reviews_max[name] < n_reviews:\n",
        "                reviews_max[name] = n_reviews\n",
        "        else:\n",
        "            reviews_max[name] = n_reviews\n",
        "\n",
        "    clean_data = []\n",
        "    already_added = []\n",
        "    for app in data[1:]:\n",
        "        name = app[0]\n",
        "        n_reviews = float(app[3])\n",
        "        if reviews_max[name] == n_reviews and name not in already_added:\n",
        "            clean_data.append(app)\n",
        "            already_added.append(name)\n",
        "\n",
        "    return clean_data\n",
        "\n",
        "def is_english(string):\n",
        "\n",
        "    return sum(ord(char) > 127 for char in string) <= 3\n",
        "\n",
        "def eng(data, index):\n",
        "\n",
        "    return [app for app in data if is_english(app[index])]\n",
        "\n",
        "\n",
        "def darmowe(data,index ,x):\n",
        "\n",
        "    return [app for app in data if app[index] == x]"
      ],
      "metadata": {
        "id": "22F2xpBhGxwA"
      },
      "execution_count": null,
      "outputs": []
    },
    {
      "cell_type": "code",
      "source": [
        "def google_ready():\n",
        "  krok1_g = wczytaj('google_wget.csv')\n",
        "  krok2_g = usun(krok1_g)\n",
        "  krok3_g = duplikaty(krok2_g)\n",
        "  krok4_g = eng(krok3_g, 0)\n",
        "  final_g = darmowe(krok4_g,7,'0')\n",
        "  return final_g\n",
        "\n",
        "def apple_ready():\n",
        "  krok1_a = wczytaj('apple_wget.csv')\n",
        "  krok2_a = eng(krok1_a,1)\n",
        "  final_a = darmowe(krok2_a,4, '0.0')\n",
        "  return final_a\n",
        "\n",
        "def verify_ready():\n",
        "  google_OK = google_ready() == android_final\n",
        "  apple_OK = apple_ready() == ios_final\n",
        "  return google_OK and apple_OK\n",
        "\n",
        "verify_ready()"
      ],
      "metadata": {
        "id": "ReAHVk_QG170"
      },
      "execution_count": null,
      "outputs": []
    },
    {
      "cell_type": "code",
      "source": [
        "unich_12_2 = '''\n",
        "  Social Networking : 71548.34905660378\n",
        "  Photo & Video : 28441.54375\n",
        "  Games : 22788.6696905016\n",
        "  Music : 57326.530303030304\n",
        "  Reference : 74942.11111111111\n",
        "  Health & Fitness : 23298.015384615384\n",
        "  Weather : 52279.892857142855\n",
        "  Utilities : 18684.456790123455\n",
        "  Travel : 28243.8\n",
        "  Shopping : 26919.690476190477\n",
        "  News : 21248.023255813954\n",
        "  Navigation : 86090.33333333333\n",
        "  Lifestyle : 16485.764705882353\n",
        "  Entertainment : 14029.830708661417\n",
        "  Food & Drink : 33333.92307692308\n",
        "  Sports : 23008.898550724636\n",
        "  Book : 39758.5\n",
        "  Finance : 31467.944444444445\n",
        "  Education : 7003.983050847458\n",
        "  Productivity : 21028.410714285714\n",
        "  Business : 7491.117647058823\n",
        "  Catalogs : 4004.0\n",
        "  Medical : 612.0\n",
        "  '''\n",
        "\n",
        "def f1(unich):\n",
        "    dct = {}\n",
        "    for line in unich.strip().splitlines():\n",
        "        parsed = line.split(':')\n",
        "        genre = parsed[0].strip()\n",
        "        average = float(parsed[1].strip())\n",
        "        average = int(round(average, 0))\n",
        "        dct[genre] = average\n",
        "    return sorted(dct.items(), key=lambda x: x[1], reverse=True)\n",
        "\n",
        "def f2(slownik):\n",
        "    nowy_slownik = {}\n",
        "    for klucz in slownik:\n",
        "        wartosc = slownik[klucz]\n",
        "        wartosc = float(wartosc)\n",
        "        wartosc = round(wartosc)\n",
        "        nowy_slownik[klucz] = wartosc\n",
        "\n",
        "    posortowana_lista = []\n",
        "    for para in nowy_slownik.items():\n",
        "        posortowana_lista.append(para)\n",
        "\n",
        "    posortowana_lista.sort(key=lambda element: element[1], reverse=True)\n",
        "    return posortowana_lista\n",
        "\n",
        "def freq_table(dane, kolumna_index):\n",
        "    tabela = {}\n",
        "    for rekord in dane:\n",
        "        klucz = rekord[kolumna_index]\n",
        "        if klucz in tabela:\n",
        "            tabela[klucz] = tabela[klucz] + 1\n",
        "        else:\n",
        "            tabela[klucz] = 1\n",
        "    return tabela\n",
        "\n",
        "\n",
        "def apple(final_apple):\n",
        "  freq_apple = freq_table(final_apple,11)\n",
        "  dic = {}\n",
        "  for i in freq_apple:\n",
        "    total = 0\n",
        "    len_genre = 0\n",
        "    for j in final_apple:\n",
        "        genre_app = j[11]\n",
        "        if genre_app == i:\n",
        "            n_ratings = float(j[5])\n",
        "            total += n_ratings\n",
        "            len_genre += 1\n",
        "    avg_n = total / len_genre\n",
        "    dic[i] = avg_n\n",
        "  return dic\n",
        "\n",
        "unich12_2 = f1(unich_12_2)\n",
        "my12_2 = f2(apple(ios_final))\n",
        "print(\"Wyniki takie same:\")\n",
        "print(unich12_2 == my12_2)"
      ],
      "metadata": {
        "colab": {
          "base_uri": "https://localhost:8080/"
        },
        "id": "c95SQbhvP73d",
        "outputId": "5bb505d7-2ef0-462b-e43f-70667a4aec24"
      },
      "execution_count": null,
      "outputs": [
        {
          "output_type": "stream",
          "name": "stdout",
          "text": [
            "Wyniki takie same:\n",
            "True\n"
          ]
        }
      ]
    },
    {
      "cell_type": "code",
      "source": [
        "unich_13_2 = '''\n",
        "ART_AND_DESIGN : 1986335.0877192982\n",
        "AUTO_AND_VEHICLES : 647317.8170731707\n",
        "BEAUTY : 513151.88679245283\n",
        "BOOKS_AND_REFERENCE : 8767811.894736841\n",
        "BUSINESS : 1712290.1474201474\n",
        "COMICS : 817657.2727272727\n",
        "COMMUNICATION : 38456119.167247385\n",
        "DATING : 854028.8303030303\n",
        "EDUCATION : 1833495.145631068\n",
        "ENTERTAINMENT : 11640705.88235294\n",
        "EVENTS : 253542.22222222222\n",
        "FINANCE : 1387692.475609756\n",
        "FOOD_AND_DRINK : 1924897.7363636363\n",
        "HEALTH_AND_FITNESS : 4188821.9853479853\n",
        "HOUSE_AND_HOME : 1331540.5616438356\n",
        "LIBRARIES_AND_DEMO : 638503.734939759\n",
        "LIFESTYLE : 1437816.2687861272\n",
        "GAME : 15588015.603248259\n",
        "FAMILY : 3695641.8198090694\n",
        "MEDICAL : 120550.61980830671\n",
        "SOCIAL : 23253652.127118643\n",
        "SHOPPING : 7036877.311557789\n",
        "PHOTOGRAPHY : 17840110.40229885\n",
        "SPORTS : 3638640.1428571427\n",
        "TRAVEL_AND_LOCAL : 13984077.710144928\n",
        "TOOLS : 10801391.298666667\n",
        "PERSONALIZATION : 5201482.6122448975\n",
        "PRODUCTIVITY : 16787331.344927534\n",
        "PARENTING : 542603.6206896552\n",
        "WEATHER : 5074486.197183099\n",
        "VIDEO_PLAYERS : 24727872.452830188\n",
        "NEWS_AND_MAGAZINES : 9549178.467741935\n",
        "MAPS_AND_NAVIGATION : 4056941.7741935486\n",
        "'''\n",
        "\n",
        "def google(final_google):\n",
        "  freq_google = freq_table(final_google, 1)\n",
        "  dic = {}\n",
        "  for i in freq_google:\n",
        "      total = 0\n",
        "      len_category = 0\n",
        "      for j in final_google:\n",
        "          category_app = j[1]\n",
        "          if category_app == i:\n",
        "              n_installs = j[5]\n",
        "              n_installs = n_installs.replace(',', '').replace('+', '')\n",
        "              total += float(n_installs)\n",
        "              len_category += 1\n",
        "      avg_n = total / len_category\n",
        "      dic[i] = avg_n\n",
        "  return dic\n",
        "\n",
        "unich13_2 = f1(unich_13_2)\n",
        "my13_2 = f2(google(android_final))\n",
        "print(\"Wyniki takie same:\")\n",
        "print(unich13_2 == my13_2)"
      ],
      "metadata": {
        "colab": {
          "base_uri": "https://localhost:8080/"
        },
        "id": "KDaX3AreQHjm",
        "outputId": "0e273b75-cd5a-4db8-beab-b0e20428f305"
      },
      "execution_count": null,
      "outputs": [
        {
          "output_type": "stream",
          "name": "stdout",
          "text": [
            "Wyniki takie same:\n",
            "True\n"
          ]
        }
      ]
    }
  ]
}